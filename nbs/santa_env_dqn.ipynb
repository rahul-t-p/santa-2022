{
 "cells": [
  {
   "cell_type": "markdown",
   "metadata": {
    "id": "J1Q9YDFwnOrt"
   },
   "source": [
    "# Setup Preparation"
   ]
  },
  {
   "cell_type": "code",
   "execution_count": 3,
   "metadata": {
    "id": "8oj0ehE3ksMX"
   },
   "outputs": [],
   "source": [
    "import gym\n",
    "from gym import spaces\n",
    "import numpy as np\n",
    "from functools import reduce\n",
    "import cv2\n",
    "\n",
    "import matplotlib.pyplot as plt"
   ]
  },
  {
   "cell_type": "code",
   "execution_count": 4,
   "metadata": {
    "id": "I-oJNlWPDuB2"
   },
   "outputs": [],
   "source": [
    "import random\n",
    "import matplotlib.pyplot as plt\n",
    "from collections import namedtuple, deque\n",
    "from itertools import count\n",
    "\n",
    "import torch\n",
    "import torch.nn as nn\n",
    "import torch.optim as optim\n",
    "import torch.nn.functional as F\n",
    "from torchvision import transforms"
   ]
  },
  {
   "cell_type": "markdown",
   "metadata": {
    "id": "MOFvQOwpnUaL"
   },
   "source": [
    "# Env Creation"
   ]
  },
  {
   "cell_type": "code",
   "execution_count": 5,
   "metadata": {
    "id": "tlB8-2RfksMY"
   },
   "outputs": [],
   "source": [
    "class Santa2k22(gym.Env):\n",
    "    def __init__(self, resource_dir:str, do_render:bool = False):\n",
    "        super(Santa2k22, self).__init__()\n",
    "        \n",
    "        self.state_space = cv2.imread(resource_dir+\"/image.png\")\n",
    "        self.side, _, _ = self.state_space.shape\n",
    "        self.observation_space = spaces.Box(low=-1, high=1, shape=(self.side, self.side),\n",
    "                                     dtype=np.float32)\n",
    "        \n",
    "        self.key_to_links = dict({\n",
    "            i : 2 ** (6-i) for i in range(8)\n",
    "        })\n",
    "        self.key_to_links[7] = 1\n",
    "        self.action_space = spaces.Box(low=0, high=2, shape=(8,), dtype=int) # (links x direction) links; 0 => 64, 1 => 32 .... 7 => 1; direction; anticlock => 2, clock => 0, same position => 1\n",
    "        \n",
    "        self.state = None\n",
    "        self.config = None\n",
    "        self.done = False\n",
    "        self.do_render = do_render\n",
    "        # self.transform = transforms.Compose([\n",
    "        #     transforms.ToTensor(),\n",
    "        #     transforms.Normalize([0.485, 0.456, 0.406], [0.229, 0.224, 0.225])\n",
    "        # ])\n",
    "        \n",
    "    def reset(self):\n",
    "        self.state = torch.zeros((self.side, self.side), dtype=torch.float32) - 1\n",
    "        self.state[self.side//2+1, self.side//2+1] = 1\n",
    "        \n",
    "        self.config = [(64, 0), (-32, 0), (-16, 0), (-8, 0), (-4, 0), (-2, 0), (-1, 0), (-1, 0)]\n",
    "        \n",
    "        return self.state[None, ...]\n",
    "    \n",
    "    def _get_position(self, config:list):\n",
    "        return reduce(lambda p, q: (p[0] + q[0], p[1] + q[1]), config, (0, 0))\n",
    "    \n",
    "    def _rotate_link(self, vector, direction):\n",
    "        x, y = vector\n",
    "        if direction == 2:  # counter-clockwise\n",
    "            if y >= x and y > -x:\n",
    "                x -= 1\n",
    "            elif y > x and y <= -x:\n",
    "                y -= 1\n",
    "            elif y <= x and y < -x:\n",
    "                x += 1\n",
    "            else:\n",
    "                y += 1\n",
    "        elif direction == 0:  # clockwise\n",
    "            if y > x and y >= -x:\n",
    "                x += 1\n",
    "            elif y >= x and y < -x:\n",
    "                y += 1\n",
    "            elif y < x and y <= -x:\n",
    "                x -= 1\n",
    "            else:\n",
    "                y -= 1\n",
    "        return (x, y)\n",
    "\n",
    "\n",
    "    def _rotate(self, config, i, direction):\n",
    "        config = config.copy()\n",
    "        config[i] = self._rotate_link(config[i], direction)\n",
    "        return config\n",
    "    \n",
    "    def _cartesian_to_array(self, x, y, shape):\n",
    "        m, n = shape[:2]\n",
    "        i = (n - 1) // 2 - y\n",
    "        j = (n - 1) // 2 + x\n",
    "        if i < 0 or i >= m or j < 0 or j >= n:\n",
    "            raise ValueError(\"Coordinates not within given dimensions.\")\n",
    "        return i, j\n",
    "    \n",
    "    def _reconfiguration_cost(self, from_config, to_config):\n",
    "        nlinks = len(from_config)\n",
    "        diffs = np.abs(np.asarray(from_config) - np.asarray(to_config)).sum(axis=1)\n",
    "        return np.sqrt(diffs.sum())\n",
    "\n",
    "    def _color_cost(self, from_position, to_position, color_scale=3.0):\n",
    "        return np.abs(self.state_space[to_position] - self.state_space[from_position]).sum() * color_scale\n",
    "\n",
    "    def _step_cost(self, from_config, to_config):\n",
    "        from_position = self._cartesian_to_array(*self._get_position(from_config), self.state_space.shape)\n",
    "        to_position = self._cartesian_to_array(*self._get_position(to_config), self.state_space.shape)\n",
    "        return (\n",
    "            self._reconfiguration_cost(from_config, to_config) +\n",
    "            self._color_cost(from_position, to_position)\n",
    "        )\n",
    "\n",
    "    def step(self, action):\n",
    "        \n",
    "        prev_config = self.config.copy()\n",
    "        prev_pos = self._get_position(self.config)\n",
    "        prev_pos_array = self._cartesian_to_array(*prev_pos, (self.side, self.side, 3))\n",
    "        \n",
    "        for idx, direction in enumerate(action):\n",
    "            self.config = self._rotate(self.config, idx, direction)\n",
    "        new_pos = self._get_position(self.config)\n",
    "        new_pos_array = self._cartesian_to_array(*new_pos, (self.side, self.side, 3))\n",
    "        \n",
    "        if(self.state[new_pos_array] != 1):\n",
    "            self.state[new_pos_array] = 1\n",
    "        \n",
    "        reward = -1 * self._step_cost(prev_config, self.config)\n",
    "        \n",
    "        if torch.all(self.state.eq(torch.ones((self.side, self.side), dtype=torch.float32))):\n",
    "            self.done = True\n",
    "        \n",
    "        if self.render:\n",
    "            self.render()\n",
    "        \n",
    "        return self.state[None, ...], reward, self.done, {}\n",
    "    \n",
    "    def render(self, mode = \"human\"):\n",
    "        assert mode in [\"human\", \"rgb_array\"], \"Invalid mode, must be either \\\"human\\\" or \\\"rgb_array\\\"\"\n",
    "        \n",
    "        if mode == \"human\":\n",
    "            state = np.zeros((self.side, self.side), dtype = np.uint8)\n",
    "            state[self.state.numpy() == -1] = 0\n",
    "            state[self.state.numpy() == 1] = 255\n",
    "            plt.title(\"Christmas Card\")\n",
    "            plt.imshow(state)\n",
    "        elif mode == \"rgb_array\":\n",
    "            return self.state\n",
    "        \n",
    "    def random_action_test(self, step:int=10):\n",
    "        self.reset()\n",
    "        for i in range(step):\n",
    "            action = self.action_space.sample()\n",
    "            next_state, reward, done, _ = self.step(action)\n",
    "        \n",
    "        self.render()"
   ]
  },
  {
   "cell_type": "code",
   "execution_count": 6,
   "metadata": {
    "id": "MFXhay_1ksMZ"
   },
   "outputs": [],
   "source": [
    "env = Santa2k22(\"../env/src/\")"
   ]
  },
  {
   "cell_type": "code",
   "execution_count": 7,
   "metadata": {
    "colab": {
     "base_uri": "https://localhost:8080/",
     "height": 281
    },
    "id": "Pkjgz-kqksMZ",
    "outputId": "8e4c2be0-b927-41f8-9922-adbab30690cf"
   },
   "outputs": [
    {
     "data": {
      "image/png": "[encoded data removed]",
      "text/plain": [
       "<Figure size 432x288 with 1 Axes>"
      ]
     },
     "metadata": {
      "needs_background": "light"
     },
     "output_type": "display_data"
    }
   ],
   "source": [
    "env.random_action_test(1000)"
   ]
  },
  {
   "cell_type": "code",
   "execution_count": 8,
   "metadata": {
    "colab": {
     "base_uri": "https://localhost:8080/",
     "height": 287
    },
    "id": "WylGmyX5ksMa",
    "outputId": "489f3c99-dba9-418d-ffb0-1c947d4fda3a"
   },
   "outputs": [
    {
     "data": {
      "text/plain": [
       "<matplotlib.image.AxesImage at 0x7fecb2068400>"
      ]
     },
     "execution_count": 8,
     "metadata": {},
     "output_type": "execute_result"
    },
    {
     "data": {
      "image/png": "[encoded data removed]",
      "text/plain": [
       "<Figure size 432x288 with 1 Axes>"
      ]
     },
     "metadata": {
      "needs_background": "light"
     },
     "output_type": "display_data"
    }
   ],
   "source": [
    "plt.imshow(env.state_space)"
   ]
  },
  {
   "cell_type": "markdown",
   "metadata": {
    "id": "O77NiFnynnhq"
   },
   "source": [
    "# DQN"
   ]
  },
  {
   "cell_type": "markdown",
   "metadata": {},
   "source": [
    "DQN reference from https://pytorch.org/tutorials/intermediate/reinforcement_q_learning.html"
   ]
  },
  {
   "cell_type": "code",
   "execution_count": 9,
   "metadata": {
    "id": "VSCgsmbBnmst"
   },
   "outputs": [],
   "source": [
    "env = Santa2k22(\"../env/src/\")\n",
    "env.reset()\n",
    "\n",
    "# set up matplotlib\n",
    "is_ipython = 'inline' in matplotlib.get_backend()\n",
    "if is_ipython:\n",
    "    from IPython import display\n",
    "\n",
    "plt.ion()\n",
    "\n",
    "# if gpu is to be used\n",
    "device = torch.device(\"cuda\" if torch.cuda.is_available() else \"cpu\")"
   ]
  },
  {
   "cell_type": "code",
   "execution_count": 12,
   "metadata": {
    "id": "PSXbT98YqI-W"
   },
   "outputs": [],
   "source": [
    "Transition = namedtuple('Transition',\n",
    "                        ('state', 'action', 'next_state', 'reward'))\n",
    "\n",
    "\n",
    "class ReplayMemory(object):\n",
    "\n",
    "    def __init__(self, capacity):\n",
    "        self.memory = deque([],maxlen=capacity)\n",
    "\n",
    "    def push(self, *args):\n",
    "        \"\"\"Save a transition\"\"\"\n",
    "        self.memory.append(Transition(*args))\n",
    "\n",
    "    def sample(self, batch_size):\n",
    "        return random.sample(self.memory, batch_size)\n",
    "\n",
    "    def __len__(self):\n",
    "        return len(self.memory)"
   ]
  },
  {
   "cell_type": "code",
   "execution_count": 13,
   "metadata": {
    "id": "SxF6lJVjqQvg"
   },
   "outputs": [],
   "source": [
    "#https://stackoverflow.com/questions/72420221/how-to-get-a-2d-output-from-linear-layer-in-pytorch\n",
    "class MultiDimLinear(torch.nn.Linear):\n",
    "    def __init__(self, in_features, out_shape, **kwargs):\n",
    "        self.out_shape = out_shape\n",
    "        out_features = np.prod(self.out_shape)\n",
    "        super().__init__(in_features, out_features, **kwargs)\n",
    "\n",
    "    def forward(self, x):\n",
    "        bs = x.shape[0]\n",
    "        out = super().forward(x)\n",
    "        return out.reshape(bs, *self.out_shape)\n",
    "\n",
    "\n",
    "class DQN(nn.Module):\n",
    "\n",
    "    def __init__(self, n_links):\n",
    "        super(DQN, self).__init__()\n",
    "\n",
    "        self.conv1 = nn.Conv2d(1, 32, kernel_size=8, stride=4) # 1 since input is grayscale\n",
    "        self.conv2 = nn.Conv2d(32, 64, kernel_size=4, stride=2)\n",
    "        self.conv3 = nn.Conv2d(64, 64, kernel_size=3, stride=1)\n",
    "\n",
    "        self.fc1 = nn.Linear(64*28*28, 512)\n",
    "        self.out = MultiDimLinear(512, (n_links, 3))\n",
    "\n",
    "    # Called with either one element to determine next action, or a batch\n",
    "    def forward(self, x):\n",
    "        x = F.relu(self.conv1(x))\n",
    "        x = F.relu(self.conv2(x))\n",
    "        x = F.relu(self.conv3(x))\n",
    "        x = nn.Flatten()(x)\n",
    "        x = F.relu(self.fc1(x))\n",
    "        x = self.out(x)\n",
    "        return x"
   ]
  },
  {
   "cell_type": "code",
   "execution_count": 14,
   "metadata": {
    "id": "2P4ROm6BZr9O"
   },
   "outputs": [],
   "source": [
    "# op = DQN(env.action_space.shape[0])(torch.randn(128, 1, 257, 257))\n",
    "# op.max(2)[1]"
   ]
  },
  {
   "cell_type": "code",
   "execution_count": 21,
   "metadata": {
    "id": "wNB95MhHtIQK"
   },
   "outputs": [],
   "source": [
    "# BATCH_SIZE is the number of transitions sampled from the replay buffer\n",
    "# GAMMA is the discount factor as mentioned in the previous section\n",
    "# EPS_START is the starting value of epsilon\n",
    "# EPS_END is the final value of epsilon\n",
    "# EPS_DECAY controls the rate of exponential decay of epsilon, higher means a slower decay\n",
    "# TAU is the update rate of the target network\n",
    "# LR is the learning rate of the AdamW optimizer\n",
    "BATCH_SIZE = 128\n",
    "GAMMA = 0.99\n",
    "EPS_START = 0.9\n",
    "EPS_END = 0.05\n",
    "EPS_DECAY = 1000\n",
    "TAU = 0.005\n",
    "LR = 1e-4\n",
    "\n",
    "# Get number of links from gym action space\n",
    "n_links = env.action_space.shape[0]\n",
    "\n",
    "policy_net = DQN(n_links).to(device)\n",
    "target_net = DQN(n_links).to(device)\n",
    "target_net.load_state_dict(policy_net.state_dict())\n",
    "\n",
    "optimizer = optim.AdamW(policy_net.parameters(), lr=LR, amsgrad=True)\n",
    "memory = ReplayMemory(10000)\n",
    "\n",
    "\n",
    "steps_done = 0\n",
    "\n",
    "\n",
    "def select_action(state):\n",
    "    global steps_done\n",
    "    sample = random.random()\n",
    "    eps_threshold = EPS_END + (EPS_START - EPS_END) * \\\n",
    "        np.exp(-1. * steps_done / EPS_DECAY)\n",
    "    steps_done += 1\n",
    "    if sample > eps_threshold:\n",
    "        with torch.no_grad():\n",
    "            # t.max(1) will return largest column value of each row.\n",
    "            # second column on max result is index of where max element was\n",
    "            # found, so we pick action with the larger expected reward.\n",
    "            return policy_net(state[None, ...].to(device)).max(2)[1][0]\n",
    "    else:\n",
    "        return torch.tensor(env.action_space.sample(), device=device, dtype=torch.long)"
   ]
  },
  {
   "cell_type": "code",
   "execution_count": 24,
   "metadata": {
    "id": "73WhcLUUCLPV"
   },
   "outputs": [],
   "source": [
    "def optimize_model():\n",
    "    if len(memory) < BATCH_SIZE:\n",
    "        return\n",
    "    transitions = memory.sample(BATCH_SIZE)\n",
    "    # Transpose the batch (see https://stackoverflow.com/a/19343/3343043 for\n",
    "    # detailed explanation). This converts batch-array of Transitions\n",
    "    # to Transition of batch-arrays.\n",
    "    batch = Transition(*zip(*transitions))\n",
    "    # for i in batch.action:\n",
    "    #     print(i.shape)\n",
    "\n",
    "    # Compute a mask of non-final states and concatenate the batch elements\n",
    "    # (a final state would've been the one after which simulation ended)\n",
    "    non_final_mask = torch.tensor(tuple(map(lambda s: s is not None,\n",
    "                                          batch.next_state)), device=device, dtype=torch.bool)\n",
    "    # print(non_final_mask.shape)\n",
    "    non_final_next_states = torch.cat([s for s in batch.next_state\n",
    "                                                if s is not None])\n",
    "    # print(non_final_next_states.shape)\n",
    "    state_batch = torch.cat(batch.state)\n",
    "    action_batch = torch.cat(batch.action)\n",
    "    reward_batch = torch.cat(batch.reward)\n",
    "    # print(\"non_final_mask \", non_final_mask.shape)\n",
    "    # print(\"non_final_next_states \", non_final_next_states.shape)\n",
    "    # print(\"state_batch \", state_batch.shape)\n",
    "    # print(\"action_batch \", action_batch.shape)\n",
    "    # print(\"reward_batch \", reward_batch.shape)\n",
    "    # print(state_batch.shape, action_batch.shape, reward_batch.shape)\n",
    "\n",
    "    # Compute Q(s_t, a) - the model computes Q(s_t), then we select the\n",
    "    # columns of actions taken. These are the actions which would've been taken\n",
    "    # for each batch state according to policy_net\n",
    "    state_action_values = policy_net(state_batch.to(device))\n",
    "    # print(\"state_action_values \", state_action_values.shape)\n",
    "    state_action_values = state_action_values.gather(2, action_batch.unsqueeze(-1)).squeeze(-1)\n",
    "    # print(\"state_action_values \", state_action_values.shape)\n",
    "\n",
    "    # Compute V(s_{t+1}) for all next states.\n",
    "    # Expected values of actions for non_final_next_states are computed based\n",
    "    # on the \"older\" target_net; selecting their best reward with max(1)[0].\n",
    "    # This is merged based on the mask, such that we'll have either the expected\n",
    "    # state value or 0 in case the state was final.\n",
    "    next_state_values = torch.zeros((BATCH_SIZE, n_links), device=device, dtype=torch.float)\n",
    "    with torch.no_grad():\n",
    "        # print(target_net(non_final_next_states).max(2)[1][0].shape)\n",
    "        next_state_values[non_final_mask] = target_net(non_final_next_states.to(device)).max(2)[0]\n",
    "        # print(\"next_state_values \", next_state_values.shape)\n",
    "    # Compute the expected Q values\n",
    "    expected_state_action_values = (next_state_values * GAMMA) + reward_batch.unsqueeze(-1)\n",
    "    # print(\"expected_state_action_values \", expected_state_action_values.shape)\n",
    "    # print(state_action_values.shape, expected_state_action_values.shape)\n",
    "    # Compute Huber loss\n",
    "    criterion = nn.SmoothL1Loss()\n",
    "    loss = criterion(state_action_values, expected_state_action_values)\n",
    "\n",
    "    # Optimize the model\n",
    "    optimizer.zero_grad()\n",
    "    loss.backward()\n",
    "    # In-place gradient clipping\n",
    "    torch.nn.utils.clip_grad_value_(policy_net.parameters(), 100)\n",
    "    optimizer.step()"
   ]
  },
  {
   "cell_type": "code",
   "execution_count": null,
   "metadata": {
    "colab": {
     "base_uri": "https://localhost:8080/"
    },
    "id": "M7iL1jO8Ci6S",
    "outputId": "49a41d4a-1a09-4ccb-f724-aa8a16921a14"
   },
   "outputs": [
    {
     "metadata": {
      "tags": null
     },
     "name": "stdout",
     "output_type": "stream",
     "text": [
      "Episode  0\n"
     ]
    }
   ],
   "source": [
    "if torch.cuda.is_available():\n",
    "    num_episodes = 600\n",
    "else:\n",
    "    num_episodes = 50\n",
    "\n",
    "for i_episode in range(num_episodes):\n",
    "    print(\"Episode \", i_episode)\n",
    "    # Initialize the environment and get it's state\n",
    "    state = env.reset()\n",
    "    for t in count():\n",
    "        action = select_action(state)\n",
    "        observation, reward, done, _ = env.step(action)\n",
    "        reward = torch.tensor([reward], device=device)\n",
    "\n",
    "        if done:\n",
    "            next_state = None\n",
    "        else:\n",
    "            next_state = observation\n",
    "        # Store the transition in memory\n",
    "        memory.push(state[None, ...], action[None, ...], next_state[None, ...], reward)\n",
    "\n",
    "        # Move to the next state\n",
    "        state = next_state\n",
    "\n",
    "        # Perform one step of the optimization (on the policy network)\n",
    "        optimize_model()\n",
    "\n",
    "        # Soft update of the target network's weights\n",
    "        # θ′ ← τ θ + (1 −τ )θ′\n",
    "        target_net_state_dict = target_net.state_dict()\n",
    "        policy_net_state_dict = policy_net.state_dict()\n",
    "        for key in policy_net_state_dict:\n",
    "            target_net_state_dict[key] = policy_net_state_dict[key]*TAU + target_net_state_dict[key]*(1-TAU)\n",
    "        target_net.load_state_dict(target_net_state_dict)\n",
    "\n",
    "        if done:\n",
    "            episode_durations.append(t + 1)\n",
    "            break\n",
    "    torch.save(policy_net, '/content/drive/MyDrive/src/santa_dqn'+i_episode+'.pth')\n",
    "\n",
    "print('Complete')"
   ]
  },
  {
   "cell_type": "code",
   "execution_count": null,
   "metadata": {
    "id": "tsdM6vbA_CuL"
   },
   "outputs": [],
   "source": [
    "torch.save(policy_net, 'santa_dqn.pth')"
   ]
  }
 ],
 "metadata": {
  "accelerator": "GPU",
  "colab": {
   "provenance": []
  },
  "gpuClass": "standard",
  "kernelspec": {
   "display_name": "Python 3 (ipykernel)",
   "language": "python",
   "name": "python3"
  },
  "language_info": {
   "codemirror_mode": {
    "name": "ipython",
    "version": 3
   },
   "file_extension": ".py",
   "mimetype": "text/x-python",
   "name": "python",
   "nbconvert_exporter": "python",
   "pygments_lexer": "ipython3",
   "version": "3.7.13"
  },
  "vscode": {
   "interpreter": {
    "hash": "0f6397003f69db0980bf667292e8649672c16d65d9c197f5ae8fded3f1aff90c"
   }
  }
 },
 "nbformat": 4,
 "nbformat_minor": 1
}
